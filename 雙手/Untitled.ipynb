{
 "cells": [
  {
   "cell_type": "code",
   "execution_count": 1,
   "id": "2f9707b5",
   "metadata": {},
   "outputs": [
    {
     "ename": "SyntaxError",
     "evalue": "(unicode error) 'unicodeescape' codec can't decode bytes in position 2-3: truncated \\UXXXXXXXX escape (<ipython-input-1-98764b2f98b2>, line 14)",
     "output_type": "error",
     "traceback": [
      "\u001b[1;36m  File \u001b[1;32m\"<ipython-input-1-98764b2f98b2>\"\u001b[1;36m, line \u001b[1;32m14\u001b[0m\n\u001b[1;33m    folderPath = \"C:\\Users\\win10\\D013\\雙手\\Fingerimages2\"\u001b[0m\n\u001b[1;37m                 ^\u001b[0m\n\u001b[1;31mSyntaxError\u001b[0m\u001b[1;31m:\u001b[0m (unicode error) 'unicodeescape' codec can't decode bytes in position 2-3: truncated \\UXXXXXXXX escape\n"
     ]
    }
   ],
   "source": [
    "import cv2\n",
    "import time\n",
    "import os,numpy as np\n",
    "import HandTrackingModule as htm    # 07. 導入自訂的HandTrackingModule.py\n",
    "\n",
    "# 01. 取得鏡頭影像的基本架構\n",
    "wCam, hCam = 640, 480\n",
    "\n",
    "cap = cv2.VideoCapture(0)\n",
    "cap.set(3, wCam)\n",
    "cap.set(4, hCam)\n",
    "\n",
    "# 02. 設定手指圖片路徑\n",
    "folderPath = \"D:\\\\python\\\\cv2\\\\finger\\\\Fingerimages2\"\n",
    "myList = os.listdir(folderPath)\n",
    "print(myList)\n",
    "\n",
    "# 03. 載入圖片至overlayList中\n",
    "overlayList = []\n",
    "for imPath in myList:\n",
    "    image = cv2.imread(f'{folderPath}/{imPath}')\n",
    "    print(f'{folderPath}/{imPath}')\n",
    "    overlayList.append(image)\n",
    "print(len(overlayList))\n",
    "\n",
    "# 05. FPS時間設定\n",
    "pTime = 0\n",
    "\n",
    "# 07. 使用 HandTrackingModule.py函式擷取手部資訊\n",
    "detector = htm.handDetector(detectionCon=0.75)\n",
    "\n",
    "\n",
    "while True:\n",
    "    success, img = cap.read()\n",
    "\n",
    "    # 04. 水平翻轉畫面\n",
    "    #img = cv2.flip(img, 1) \n",
    "\n",
    "    # 07. 偵測手並傳回座標位置\n",
    "    img = detector.findHands(img, draw = False)\n",
    "    lmList, bbox = detector.findPosition(img,handNo=-1 ,draw=True)\n",
    "    #print(np.shape(lmList))\n",
    "    #print(lmList)\n",
    "    # 10. 偵測手並傳回座標位置\n",
    "    if len(lmList) != 0: \n",
    "        # 10. 檢查那些手指向上\n",
    "        fingers = detector.fingersUp()\n",
    "        #print(fingers)\n",
    "        img=detector.HW16(img,fingers,overlayList)\n",
    "        # 10. 計算向上手指數量\n",
    "        totalFingers = fingers.count(1)\n",
    "        # 10. 輸出數字\n",
    "        #cv2.rectangle(img, (20, 225), (170, 425), (255,0,255), cv2.FILLED)\n",
    "        #cv2.putText(img, f'{int(totalFingers)}', (45, 375), cv2.FONT_HERSHEY_COMPLEX, 5, (255,0,0), 15)\n",
    "        # 11. 修改原4.載入圖片至影像中的程式並放入if len(lmList) != 0:中\n",
    "        #h, w, c = overlayList[totalFingers-1].shape\n",
    "        #img[0:h, 0:w] = overlayList[totalFingers-1]\n",
    "    # 04. 載入圖片至影像中\n",
    "    #h, w, c = overlayList[0].shape\n",
    "    #img[0:h, 0:w] = overlayList[0]\n",
    "    # 05. 顯示FPS (frame rate)\n",
    "    cTime = time.time()\n",
    "    fps = 1/(cTime-pTime)\n",
    "    pTime = cTime\n",
    "    cv2.putText(img, f'FPS:{int(fps)}', (wCam-120, 50), cv2.FONT_HERSHEY_COMPLEX, 1, (255,0,0), 3)\n",
    "    cv2.imshow(\"Image\", img)\n",
    "    # 01. 按Q離開\n",
    "    if cv2.waitKey(10) & 0xFF == ord('q'):\n",
    "        break\n",
    "\n",
    "cap.release()\n",
    "cv2.destroyAllWindows()\n"
   ]
  },
  {
   "cell_type": "code",
   "execution_count": null,
   "id": "1c80ddd3",
   "metadata": {},
   "outputs": [],
   "source": []
  }
 ],
 "metadata": {
  "kernelspec": {
   "display_name": "Python 3",
   "language": "python",
   "name": "python3"
  },
  "language_info": {
   "codemirror_mode": {
    "name": "ipython",
    "version": 3
   },
   "file_extension": ".py",
   "mimetype": "text/x-python",
   "name": "python",
   "nbconvert_exporter": "python",
   "pygments_lexer": "ipython3",
   "version": "3.8.8"
  }
 },
 "nbformat": 4,
 "nbformat_minor": 5
}
